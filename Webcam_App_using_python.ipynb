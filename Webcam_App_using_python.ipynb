{
  "nbformat": 4,
  "nbformat_minor": 0,
  "metadata": {
    "colab": {
      "name": "Webcam_App-using_python.ipynb",
      "provenance": [],
      "collapsed_sections": [],
      "authorship_tag": "ABX9TyMKMStvUTx0Rn4XW+YKVM/3",
      "include_colab_link": true
    },
    "kernelspec": {
      "name": "python3",
      "display_name": "Python 3"
    }
  },
  "cells": [
    {
      "cell_type": "markdown",
      "metadata": {
        "id": "view-in-github",
        "colab_type": "text"
      },
      "source": [
        "<a href=\"https://colab.research.google.com/github/codebyabhishek772/Web_cam_app_using_python/blob/master/Webcam_App_using_python.ipynb\" target=\"_parent\"><img src=\"https://colab.research.google.com/assets/colab-badge.svg\" alt=\"Open In Colab\"/></a>"
      ]
    },
    {
      "cell_type": "code",
      "metadata": {
        "id": "xC6QjN1hWDrf",
        "colab_type": "code",
        "colab": {}
      },
      "source": [
        "import cv2"
      ],
      "execution_count": 1,
      "outputs": []
    },
    {
      "cell_type": "code",
      "metadata": {
        "id": "zJQ45Uc5Xqte",
        "colab_type": "code",
        "colab": {}
      },
      "source": [
        "imgcapture =  cv2.VideoCapture(0)\n",
        "result = True\n",
        "while (result):\n",
        "  ret, frame = imgcapture.read()\n",
        "  cv2.imwrite(\"test.jpg\", frame)\n",
        "  result = False\n",
        "  print(\"Image Captured!.......\")\n",
        "\n",
        "\n",
        "imgcapture.release()"
      ],
      "execution_count": null,
      "outputs": []
    }
  ]
}